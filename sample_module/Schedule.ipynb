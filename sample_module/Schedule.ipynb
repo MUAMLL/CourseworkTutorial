{
 "cells": [
  {
   "cell_type": "markdown",
   "id": "278bc6ac-1f7b-44ae-aa14-c7ea0e7303b2",
   "metadata": {},
   "source": [
    "# Module 2: Overview of Supervised ML Models\n",
    "\n",
    "This module will provide an overview of Supervised ML Classification Models, as well as provide you with an opportunity for hands-on experience using SKLearn, NumPy, and Pandas to move through a standard classification ML workflow.\n"
   ]
  },
  {
   "cell_type": "markdown",
   "id": "ae44a4dd-fcae-4b56-9ed1-0294c36b08fc",
   "metadata": {},
   "source": [
    "## Module Topics\n",
    "\n",
    "- Nearest Neighbor Classifier\n",
    "  - KNN Algorithm\n",
    "  - Training and Testing KNN Classifiers\n",
    "- Linear Models\n",
    "  - Perceptron\n",
    "  - Multi-Layer Perceptron\n",
    "  - SGD Classifier\n",
    "- Support Vector Machines\n",
    "  - Support Vectors\n",
    "  - Kernel Trick\n",
    "  - One-Versus-Rest (OVR) Scheme\n"
   ]
  },
  {
   "cell_type": "markdown",
   "id": "67bcb8f8-a913-442a-a759-d7334601488f",
   "metadata": {},
   "source": [
    "## Readings\n",
    "\n",
    "- [Introduction to Classification](https://www.datacamp.com/blog/classification-machine-learning)\n",
    "- [KNN (Wikipedia)](https://en.wikipedia.org/wiki/K-nearest_neighbors_algorithm)\n",
    "- [Kernel Trick](https://towardsdatascience.com/the-kernel-trick-c98cdbcaeb3f)\n"
   ]
  },
  {
   "cell_type": "markdown",
   "id": "0ba22d50-1124-4724-a4d9-bcbcd1ba6ee3",
   "metadata": {},
   "source": [
    "## Labs\n",
    "\n",
    "- [Nearest Neighbors](./labs/KNN_Classifier.ipynb)\n",
    "- [Linear Models](./labs/LinearModels.ipynb)\n",
    "- [Support Vector Machines](./labs/SVM.ipynb)\n",
    "\n",
    "## Practices\n",
    "\n",
    "- [Linear Models, SVMs, and Nearest Neighbors](./practices/Module2Practice.ipynb)\n",
    "\n",
    "## Exercises\n",
    "\n",
    "- [Module 2 Exercise](./exercises/Module2Exercise.ipynb)\n"
   ]
  },
  {
   "cell_type": "markdown",
   "id": "11871476-940c-4234-b5d5-14bfd013ce9a",
   "metadata": {},
   "source": [
    "### Do not forget to submit your work on **Canvas**\n"
   ]
  },
  {
   "cell_type": "markdown",
   "id": "2fe165f9-1a7b-4470-9551-b75aa6d3a54c",
   "metadata": {},
   "source": [
    "## Congratulations, you have completed the learning activities for this module!\n"
   ]
  }
 ],
 "metadata": {
  "kernelspec": {
   "display_name": "Python 3 (ipykernel)",
   "language": "python",
   "name": "python3"
  },
  "language_info": {
   "codemirror_mode": {
    "name": "ipython",
    "version": 3
   },
   "file_extension": ".py",
   "mimetype": "text/x-python",
   "name": "python",
   "nbconvert_exporter": "python",
   "pygments_lexer": "ipython3",
   "version": "3.12.7"
  }
 },
 "nbformat": 4,
 "nbformat_minor": 5
}
