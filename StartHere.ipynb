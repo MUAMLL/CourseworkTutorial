{
 "cells": [
  {
   "cell_type": "markdown",
   "metadata": {},
   "source": [
    "# CMP_SC 7720: Introduction to Machine Learning\n",
    "\n",
    "## Course Summary\n",
    "This course leverages the foundations in statistics and programming to introduce concepts in machine learning (ML). Participants will learn various classes of machine learning and modeling techniques and gain an in-depth understanding of how to select appropriate techniques for various machine learning tasks. Topics cover a spectrum from simple modeling to more advanced algorithms such as support vector machines, decision trees/forests, and neural networks. \n"
   ]
  },
  {
   "cell_type": "markdown",
   "metadata": {},
   "source": [
    "## Course Readings\n",
    "\n"
   ]
  },
  {
   "cell_type": "markdown",
   "metadata": {},
   "source": [
    "## Course Module Schedule\n",
    "\n",
    "  1. [Intro to Machine Learning & Supervised Learning](./module1/Schedule.ipynb)\n",
    "\n",
    "\n",
    "  2. [Overview of Supervised ML Methods](./sample_module/Schedule.ipynb)\n",
    "\n",
    "\n",
    "  3. [Feature Selection & Dimensionality Reduction](./module3/Schedule.ipynb)\n",
    "\n",
    "\n",
    "  4. [Unsupervised Learning: Clustering & Anomaly Detection](./module4/Schedule.ipynb)\n",
    "\n",
    "\n",
    "  5. [Multi-Stage Machine Learning Pipelines](./module5/Schedule.ipynb)\n",
    "\n",
    "\n",
    "  8. [Introduction to Neural Networks](./module6/Schedule.ipynb)\n",
    "\n",
    "\n",
    "  7. [Final Project](./module7/Schedule.ipynb)\n",
    "  \n",
    "\n",
    "## Resources\n",
    "\n",
    "\n",
    "Weekly videos and discussion topics will be available on Canvas. Each module will have reading links and other resources available here on JupyterHub. \n",
    "\n",
    "**Please consult the weekly module schedule notebook for details and other particulars.** \n",
    "\n",
    "This course requires you programming in Python using pandas, sklearn, and other relevant libraries. All of the software you need are freely available on Internet and already installed on JupyterHub for your use. You do not need to install anything on your local computer other than a **current version of Chrome browser**. \n"
   ]
  }
 ],
 "metadata": {
  "kernelspec": {
   "display_name": "Python 3",
   "language": "python",
   "name": "python3"
  },
  "language_info": {
   "codemirror_mode": {
    "name": "ipython",
    "version": 3
   },
   "file_extension": ".py",
   "mimetype": "text/x-python",
   "name": "python",
   "nbconvert_exporter": "python",
   "pygments_lexer": "ipython3",
   "version": "3.12.7"
  }
 },
 "nbformat": 4,
 "nbformat_minor": 4
}
